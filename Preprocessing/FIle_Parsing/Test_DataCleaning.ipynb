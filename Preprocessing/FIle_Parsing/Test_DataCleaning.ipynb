{
 "cells": [
  {
   "cell_type": "markdown",
   "metadata": {},
   "source": [
    "# Parsing XML Files\n",
    "The below code follows the following process:\n",
    "* package **os** is used to read to files.\n",
    "* package **pandas** is used to create dataframes i.e. structures to store the data.\n",
    "* package **ElementTree** is read the nodes/tags of the XML structure and helps us access these elements.\n",
    "\n",
    "More detailed comments below."
   ]
  },
  {
   "cell_type": "code",
   "execution_count": 135,
   "metadata": {
    "scrolled": false
   },
   "outputs": [
    {
     "name": "stdout",
     "output_type": "stream",
     "text": [
      "/home/ishu/Challenge_1/Dataset/mail_depers_1.xml\n",
      "/home/ishu/Challenge_1/Dataset/mail_depers_2.xml\n",
      "/home/ishu/Challenge_1/Dataset/mail_depers_7.xml\n",
      "/home/ishu/Challenge_1/Dataset/mail_depers_0.xml\n",
      "/home/ishu/Challenge_1/Dataset/mail_depers_9.xml\n",
      "/home/ishu/Challenge_1/Dataset/mail_depers_4.xml\n",
      "/home/ishu/Challenge_1/Dataset/mail_depers_3.xml\n",
      "/home/ishu/Challenge_1/Dataset/mail_depers_6.xml\n"
     ]
    }
   ],
   "source": [
    "import os #Access OS functions.\n",
    "\n",
    "path = '/home/ishu/Challenge_1/Dataset/' #Defined a Path\n",
    "\n",
    "file_list = [] #Created an array to store only the names of the XML Files in a Folder.\n",
    "\n",
    "for filename in os.listdir(path): #For loop to check only for XML Files.\n",
    "    if not filename.endswith('.xml'): continue\n",
    "    fullname = os.path.join(path, filename)\n",
    "    print (fullname)\n",
    "    file_list.append(fullname)\n",
    "    "
   ]
  },
  {
   "cell_type": "code",
   "execution_count": 156,
   "metadata": {
    "scrolled": true
   },
   "outputs": [
    {
     "data": {
      "text/plain": [
       "['/home/ishu/Challenge_1/Dataset/mail_depers_1.xml',\n",
       " '/home/ishu/Challenge_1/Dataset/mail_depers_2.xml',\n",
       " '/home/ishu/Challenge_1/Dataset/mail_depers_7.xml',\n",
       " '/home/ishu/Challenge_1/Dataset/mail_depers_0.xml',\n",
       " '/home/ishu/Challenge_1/Dataset/mail_depers_9.xml',\n",
       " '/home/ishu/Challenge_1/Dataset/mail_depers_4.xml',\n",
       " '/home/ishu/Challenge_1/Dataset/mail_depers_3.xml',\n",
       " '/home/ishu/Challenge_1/Dataset/mail_depers_6.xml']"
      ]
     },
     "execution_count": 156,
     "metadata": {},
     "output_type": "execute_result"
    }
   ],
   "source": [
    "file_list #Check the output."
   ]
  },
  {
   "cell_type": "code",
   "execution_count": 152,
   "metadata": {},
   "outputs": [],
   "source": [
    "import pandas as pd #Import pandas to play around with the data.\n",
    "\n",
    "df_cols = [\"from\",\"to\",\"subject\",\"body\"] #Created a dataframe.\n",
    "out_df = pd.DataFrame(columns = df_cols)"
   ]
  },
  {
   "cell_type": "code",
   "execution_count": 153,
   "metadata": {},
   "outputs": [
    {
     "data": {
      "text/html": [
       "<div>\n",
       "<style scoped>\n",
       "    .dataframe tbody tr th:only-of-type {\n",
       "        vertical-align: middle;\n",
       "    }\n",
       "\n",
       "    .dataframe tbody tr th {\n",
       "        vertical-align: top;\n",
       "    }\n",
       "\n",
       "    .dataframe thead th {\n",
       "        text-align: right;\n",
       "    }\n",
       "</style>\n",
       "<table border=\"1\" class=\"dataframe\">\n",
       "  <thead>\n",
       "    <tr style=\"text-align: right;\">\n",
       "      <th></th>\n",
       "      <th>from</th>\n",
       "      <th>to</th>\n",
       "      <th>subject</th>\n",
       "      <th>body</th>\n",
       "    </tr>\n",
       "  </thead>\n",
       "  <tbody>\n",
       "  </tbody>\n",
       "</table>\n",
       "</div>"
      ],
      "text/plain": [
       "Empty DataFrame\n",
       "Columns: [from, to, subject, body]\n",
       "Index: []"
      ]
     },
     "execution_count": 153,
     "metadata": {},
     "output_type": "execute_result"
    }
   ],
   "source": [
    "out_df #Empty as of now."
   ]
  },
  {
   "cell_type": "code",
   "execution_count": 145,
   "metadata": {},
   "outputs": [],
   "source": [
    "import xml.etree.ElementTree as ET #Need this library to parse XML Files.\n",
    "\n",
    "import codecs #Need this library to open XML Files (different XML files are saved with diffenent encodings)."
   ]
  },
  {
   "cell_type": "code",
   "execution_count": 154,
   "metadata": {},
   "outputs": [
    {
     "name": "stdout",
     "output_type": "stream",
     "text": [
      "/home/ishu/Challenge_1/Dataset/mail_depers_1.xml\n",
      "Done!\n",
      "/home/ishu/Challenge_1/Dataset/mail_depers_2.xml\n",
      "Done!\n",
      "/home/ishu/Challenge_1/Dataset/mail_depers_7.xml\n",
      "Done!\n",
      "/home/ishu/Challenge_1/Dataset/mail_depers_0.xml\n",
      "Done!\n",
      "/home/ishu/Challenge_1/Dataset/mail_depers_9.xml\n",
      "Done!\n",
      "/home/ishu/Challenge_1/Dataset/mail_depers_4.xml\n",
      "Done!\n",
      "/home/ishu/Challenge_1/Dataset/mail_depers_3.xml\n",
      "Done!\n",
      "/home/ishu/Challenge_1/Dataset/mail_depers_6.xml\n",
      "Done!\n"
     ]
    }
   ],
   "source": [
    "for file in file_list: #Created a for loop to go through each XML File and check it's contents.\n",
    "    print (file) #Just to check, we dont really need this.\n",
    "    target_file = codecs.open(file,mode='r',encoding='ISO-8859-1') #Open XML File.\n",
    "    xtree = ET.parse(target_file)\n",
    "    root = xtree.getroot() #Get the root of the XML File. In our case it is \"<DOCUMENT>\".\n",
    "    for child_of_root in root: #Created this for loop to get the child elements such as 'FROM','TO','SUBJECT','BODY'\n",
    "        s_name = child_of_root.attrib.get(\"NAME\")\n",
    "        if (s_name == 'FROM'):\n",
    "            s_from = child_of_root.text\n",
    "        if (s_name == 'TO'):\n",
    "            s_to = child_of_root.text\n",
    "        if (s_name == 'SUBJECT'):\n",
    "            s_subject = child_of_root.text\n",
    "        if (s_name == 'BODY'):\n",
    "            s_body = child_of_root.text\n",
    "    #Take the relevant information for the 4 tags defined above and put them in the dataframe.\n",
    "    out_df = out_df.append(pd.Series([s_from, s_to, s_subject, s_body], index = df_cols), ignore_index = True) \n",
    "    \n",
    "    \n",
    "    print (\"Done!\") #Just to check, we dont really need this."
   ]
  },
  {
   "cell_type": "code",
   "execution_count": 155,
   "metadata": {},
   "outputs": [
    {
     "data": {
      "text/html": [
       "<div>\n",
       "<style scoped>\n",
       "    .dataframe tbody tr th:only-of-type {\n",
       "        vertical-align: middle;\n",
       "    }\n",
       "\n",
       "    .dataframe tbody tr th {\n",
       "        vertical-align: top;\n",
       "    }\n",
       "\n",
       "    .dataframe thead th {\n",
       "        text-align: right;\n",
       "    }\n",
       "</style>\n",
       "<table border=\"1\" class=\"dataframe\">\n",
       "  <thead>\n",
       "    <tr style=\"text-align: right;\">\n",
       "      <th></th>\n",
       "      <th>from</th>\n",
       "      <th>to</th>\n",
       "      <th>subject</th>\n",
       "      <th>body</th>\n",
       "    </tr>\n",
       "  </thead>\n",
       "  <tbody>\n",
       "    <tr>\n",
       "      <th>0</th>\n",
       "      <td>dummyfrom1@rabobank.nl</td>\n",
       "      <td>dummyto1@rabobank.nl</td>\n",
       "      <td>Dummy Subject for this email 1</td>\n",
       "      <td>\\nNieuw-Vennep 24-09-2018.\\n\\nGoedemorgen ik h...</td>\n",
       "    </tr>\n",
       "    <tr>\n",
       "      <th>1</th>\n",
       "      <td>dummyfrom2@rabobank.nl</td>\n",
       "      <td>dummyto2@rabobank.nl</td>\n",
       "      <td>Dummy Subject for this email 2</td>\n",
       "      <td>\\nGoedemorgen heer, mevrouw, \\n\\nConform het t...</td>\n",
       "    </tr>\n",
       "    <tr>\n",
       "      <th>2</th>\n",
       "      <td>dummyfrom7@rabobank.nl</td>\n",
       "      <td>dummyto7@rabobank.nl</td>\n",
       "      <td>Dummy Subject for this email 7</td>\n",
       "      <td>\\nGeachte heer, mevrouw,\\n\\nNaar aanleiding va...</td>\n",
       "    </tr>\n",
       "    <tr>\n",
       "      <th>3</th>\n",
       "      <td>dummyfrom0@rabobank.nl</td>\n",
       "      <td>dummyto0@rabobank.nl</td>\n",
       "      <td>Dummy Subject for this email 0</td>\n",
       "      <td>\\nHello, \\nMy mother, Frans MARLIER want to tr...</td>\n",
       "    </tr>\n",
       "    <tr>\n",
       "      <th>4</th>\n",
       "      <td>dummyfrom9@rabobank.nl</td>\n",
       "      <td>dummyto9@rabobank.nl</td>\n",
       "      <td>Dummy Subject for this email 9</td>\n",
       "      <td>\\nHi again! \\nI want to confirm that you can c...</td>\n",
       "    </tr>\n",
       "    <tr>\n",
       "      <th>5</th>\n",
       "      <td>dummyfrom4@rabobank.nl</td>\n",
       "      <td>dummyto4@rabobank.nl</td>\n",
       "      <td>Dummy Subject for this email 4</td>\n",
       "      <td>\\nGeachte heer, mevrouw, \\nIn verband met de a...</td>\n",
       "    </tr>\n",
       "    <tr>\n",
       "      <th>6</th>\n",
       "      <td>dummyfrom3@rabobank.nl</td>\n",
       "      <td>dummyto3@rabobank.nl</td>\n",
       "      <td>Dummy Subject for this email 3</td>\n",
       "      <td>\\nGoedemorgen, \\n\\nIk ben de wettelijk vertege...</td>\n",
       "    </tr>\n",
       "    <tr>\n",
       "      <th>7</th>\n",
       "      <td>dummyfrom6@rabobank.nl</td>\n",
       "      <td>dummyto6@rabobank.nl</td>\n",
       "      <td>Dummy Subject for this email  6</td>\n",
       "      <td>\\nBeste \\n\\nIk heb enige tijd geleden een schr...</td>\n",
       "    </tr>\n",
       "  </tbody>\n",
       "</table>\n",
       "</div>"
      ],
      "text/plain": [
       "                     from                    to  \\\n",
       "0  dummyfrom1@rabobank.nl  dummyto1@rabobank.nl   \n",
       "1  dummyfrom2@rabobank.nl  dummyto2@rabobank.nl   \n",
       "2  dummyfrom7@rabobank.nl  dummyto7@rabobank.nl   \n",
       "3  dummyfrom0@rabobank.nl  dummyto0@rabobank.nl   \n",
       "4  dummyfrom9@rabobank.nl  dummyto9@rabobank.nl   \n",
       "5  dummyfrom4@rabobank.nl  dummyto4@rabobank.nl   \n",
       "6  dummyfrom3@rabobank.nl  dummyto3@rabobank.nl   \n",
       "7  dummyfrom6@rabobank.nl  dummyto6@rabobank.nl   \n",
       "\n",
       "                           subject  \\\n",
       "0   Dummy Subject for this email 1   \n",
       "1   Dummy Subject for this email 2   \n",
       "2   Dummy Subject for this email 7   \n",
       "3   Dummy Subject for this email 0   \n",
       "4   Dummy Subject for this email 9   \n",
       "5   Dummy Subject for this email 4   \n",
       "6   Dummy Subject for this email 3   \n",
       "7  Dummy Subject for this email  6   \n",
       "\n",
       "                                                body  \n",
       "0  \\nNieuw-Vennep 24-09-2018.\\n\\nGoedemorgen ik h...  \n",
       "1  \\nGoedemorgen heer, mevrouw, \\n\\nConform het t...  \n",
       "2  \\nGeachte heer, mevrouw,\\n\\nNaar aanleiding va...  \n",
       "3  \\nHello, \\nMy mother, Frans MARLIER want to tr...  \n",
       "4  \\nHi again! \\nI want to confirm that you can c...  \n",
       "5  \\nGeachte heer, mevrouw, \\nIn verband met de a...  \n",
       "6  \\nGoedemorgen, \\n\\nIk ben de wettelijk vertege...  \n",
       "7  \\nBeste \\n\\nIk heb enige tijd geleden een schr...  "
      ]
     },
     "execution_count": 155,
     "metadata": {},
     "output_type": "execute_result"
    }
   ],
   "source": [
    "out_df #Final output."
   ]
  }
 ],
 "metadata": {
  "kernelspec": {
   "display_name": "Python 3",
   "language": "python",
   "name": "python3"
  },
  "language_info": {
   "codemirror_mode": {
    "name": "ipython",
    "version": 3
   },
   "file_extension": ".py",
   "mimetype": "text/x-python",
   "name": "python",
   "nbconvert_exporter": "python",
   "pygments_lexer": "ipython3",
   "version": "3.7.3"
  }
 },
 "nbformat": 4,
 "nbformat_minor": 2
}
